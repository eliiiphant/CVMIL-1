{
 "cells": [
  {
   "cell_type": "markdown",
   "id": "709bcc0d",
   "metadata": {},
   "source": [
    "### Data Preprocessing"
   ]
  },
  {
   "cell_type": "markdown",
   "id": "5e06a0c6",
   "metadata": {},
   "source": [
    "Import core libraries to be used for data preprocessing."
   ]
  },
  {
   "cell_type": "code",
   "execution_count": 1,
   "id": "b03ba47b",
   "metadata": {},
   "outputs": [],
   "source": [
    "import torch\n",
    "\n",
    "from torch.utils.data import DataLoader, random_split\n",
    "from torchvision import datasets, transforms"
   ]
  },
  {
   "cell_type": "markdown",
   "id": "8aa1010f",
   "metadata": {},
   "source": [
    "Pre-process data to fit ViT (Visual Transformer) model:\n",
    "1. Resize images to 224x224 pixels\n",
    "2. Flip images left-right randomly\n",
    "3. Convert each image to a PyTorch tensor\n",
    "4. Normalize image pixel values, according to values of pre-trained model"
   ]
  },
  {
   "cell_type": "code",
   "execution_count": 2,
   "id": "9930d43c",
   "metadata": {},
   "outputs": [],
   "source": [
    "transform = transforms.Compose([\n",
    "    transforms.Resize((224, 224)),         \n",
    "    transforms.RandomHorizontalFlip(),     \n",
    "    transforms.ToTensor(),                 \n",
    "    transforms.Normalize(\n",
    "        [0.485, 0.456, 0.406],              # Mean for RGB\n",
    "        [0.229, 0.224, 0.225]               # Standard Deviation for RGB\n",
    "    )\n",
    "])"
   ]
  },
  {
   "cell_type": "markdown",
   "id": "cfbf3601",
   "metadata": {},
   "source": [
    "Load the provided dataset, and transform every image according to the configuration set in the previous section."
   ]
  },
  {
   "cell_type": "code",
   "execution_count": 3,
   "id": "9a2f618b",
   "metadata": {},
   "outputs": [],
   "source": [
    "dataset = datasets.ImageFolder(root='../training_data', transform=transform)"
   ]
  },
  {
   "cell_type": "markdown",
   "id": "3dd2980d",
   "metadata": {},
   "source": [
    "Split dataset into training (80%) and validation (20%) sets using *random_split()* with the random seed generated from PyTorch's *Generator()*."
   ]
  },
  {
   "cell_type": "code",
   "execution_count": 4,
   "id": "3399fe91",
   "metadata": {},
   "outputs": [],
   "source": [
    "training_size = int(0.8 * len(dataset))\n",
    "validation_size = len(dataset)-training_size\n",
    "training_dataset, validation_dataset = random_split(\n",
    "    dataset, \n",
    "    [training_size, validation_size], \n",
    "    torch.Generator().manual_seed(27)\n",
    ")"
   ]
  },
  {
   "cell_type": "markdown",
   "id": "ba133095",
   "metadata": {},
   "source": [
    "Batch images in the training and validation datasets for faster processing and better learning.\n"
   ]
  },
  {
   "cell_type": "code",
   "execution_count": 5,
   "id": "3be26895",
   "metadata": {},
   "outputs": [],
   "source": [
    "train_loader = DataLoader(training_dataset, batch_size=32, shuffle=True)    # Shuffle=True so model learns patterns instead of memorize\n",
    "val_loader = DataLoader(validation_dataset, batch_size=32, shuffle=False)"
   ]
  }
 ],
 "metadata": {
  "kernelspec": {
   "display_name": "venv",
   "language": "python",
   "name": "python3"
  },
  "language_info": {
   "codemirror_mode": {
    "name": "ipython",
    "version": 3
   },
   "file_extension": ".py",
   "mimetype": "text/x-python",
   "name": "python",
   "nbconvert_exporter": "python",
   "pygments_lexer": "ipython3",
   "version": "3.13.1"
  }
 },
 "nbformat": 4,
 "nbformat_minor": 5
}

{
 "cells": [
  {
   "cell_type": "code",
   "execution_count": 3,
   "id": "a519889d",
   "metadata": {},
   "outputs": [],
   "source": [
    "import copy\n",
    "import numpy as np\n",
    "import random\n",
    "import timm\n",
    "import torch\n",
    "import torch.nn as nn\n",
    "\n",
    "from PIL import Image\n",
    "from pathlib import Path\n",
    "from sklearn.utils.class_weight import compute_class_weight\n",
    "from sklearn.metrics import f1_score\n",
    "from torch.nn.functional import mse_loss\n",
    "from torch.utils.data import DataLoader, Subset, random_split\n",
    "from torchvision import datasets, transforms\n",
    "from tqdm import tqdm"
   ]
  },
  {
   "cell_type": "code",
   "execution_count": 62,
   "id": "1544b324",
   "metadata": {},
   "outputs": [],
   "source": [
    "MANUAL_SEED = 27\n",
    "NUMBER_OF_CLASSES = 4\n",
    "TRAIN_VERSION = 5\n",
    "\n",
    "RAW_DATA_DIR = \"../training_data\"\n",
    "\n",
    "NORMALIZE_MEAN = [0.485, 0.456, 0.406]\n",
    "NOMRALIZE_STD = [0.229, 0.224, 0.225]"
   ]
  },
  {
   "cell_type": "code",
   "execution_count": 63,
   "id": "9b6ab2fd",
   "metadata": {},
   "outputs": [],
   "source": [
    "transform_self_base = transforms.Compose([\n",
    "    transforms.Resize((224, 224)),\n",
    "])\n",
    "\n",
    "transform_self_aug = transforms.Compose([\n",
    "    transforms.RandomHorizontalFlip(p=0.5),\n",
    "    transforms.RandomVerticalFlip(p=0.3),\n",
    "    transforms.RandomRotation(15),\n",
    "    transforms.ColorJitter(\n",
    "        brightness=0.3,\n",
    "        contrast=0.3,\n",
    "        saturation=0.3,\n",
    "        hue=0.05\n",
    "    ),\n",
    "    transforms.RandomResizedCrop((224, 224), scale=(0.8, 1.0)),\n",
    "])"
   ]
  },
  {
   "cell_type": "code",
   "execution_count": 64,
   "id": "df6a329d",
   "metadata": {},
   "outputs": [],
   "source": [
    "base_dataset = datasets.ImageFolder(root=RAW_DATA_DIR)\n",
    "\n",
    "train_size = int(0.8*len(base_dataset))\n",
    "validation_size = len(base_dataset)-train_size\n",
    "\n",
    "generator = torch.Generator().manual_seed(MANUAL_SEED)\n",
    "train_dataset, validation_dataset = random_split(base_dataset, [train_size, validation_size], generator=generator)"
   ]
  },
  {
   "cell_type": "code",
   "execution_count": 65,
   "id": "31ca1b6f",
   "metadata": {},
   "outputs": [],
   "source": [
    "def load_class_dataset(target_class, num_variants):\n",
    "    class_index = train_dataset.dataset.class_to_idx[target_class]\n",
    "    indices = [i for i, (_, label) in enumerate(train_dataset.dataset.samples) if label == class_index]\n",
    "    train_subset = Subset(train_dataset.dataset, indices)\n",
    "\n",
    "    index_to_class = {v: k for k, v in train_dataset.dataset.class_to_idx.items()}\n",
    "\n",
    "    class_images = []\n",
    "    for i in range(len(train_subset)):\n",
    "        image, label = train_subset[i]\n",
    "        \n",
    "        base_image = transform_self_base(image)\n",
    "        class_images.append((base_image, label))\n",
    "\n",
    "        class_name = index_to_class[label]\n",
    "        if class_name == \"sigatoka\":\n",
    "            continue\n",
    "\n",
    "        for _ in range(num_variants):\n",
    "            augmented_image = transform_self_aug(image)\n",
    "            class_images.append((augmented_image, label))\n",
    "\n",
    "    return class_images"
   ]
  },
  {
   "cell_type": "code",
   "execution_count": 66,
   "id": "7295c289",
   "metadata": {},
   "outputs": [],
   "source": [
    "classes = [\"sigatoka\", \"cordana\", \"healthy\", \"pestalotiopsis\"]\n",
    "augemented_train_dataset = []\n",
    "for class_name in classes:\n",
    "    class_dataset = load_class_dataset(class_name, 4)\n",
    "    augemented_train_dataset += class_dataset"
   ]
  },
  {
   "cell_type": "code",
   "execution_count": 67,
   "id": "cf4f0882",
   "metadata": {},
   "outputs": [],
   "source": [
    "weak_transform = transforms.Compose([\n",
    "    transforms.Resize((224, 224)),\n",
    "    transforms.RandomHorizontalFlip(p=0.5),\n",
    "    transforms.ToTensor(),\n",
    "    transforms.Normalize(\n",
    "        mean=NORMALIZE_MEAN, \n",
    "        std=NOMRALIZE_STD\n",
    "    ),\n",
    "])\n",
    "\n",
    "strong_transform = transforms.Compose([\n",
    "    transforms.RandomResizedCrop(224, scale=(0.7, 1.0)),\n",
    "    transforms.ColorJitter(),\n",
    "    transforms.ToTensor(),\n",
    "    transforms.RandomErasing(p=0.5),\n",
    "    transforms.Normalize(\n",
    "        mean=NORMALIZE_MEAN, \n",
    "        std=NOMRALIZE_STD\n",
    "    ),\n",
    "])\n",
    "\n",
    "validation_transform = transforms.Compose([\n",
    "    transforms.ToTensor(),\n",
    "    transforms.Normalize(\n",
    "        mean=NORMALIZE_MEAN, \n",
    "        std=NOMRALIZE_STD\n",
    "    ),\n",
    "])"
   ]
  },
  {
   "cell_type": "code",
   "execution_count": 68,
   "id": "2b719f15",
   "metadata": {},
   "outputs": [],
   "source": [
    "class DualTransformDataset(torch.utils.data.Dataset):\n",
    "    def __init__(self, dataset, weak_transform, strong_transform):\n",
    "        self.dataset = dataset\n",
    "        self.weak_transform = weak_transform\n",
    "        self.strong_transform = strong_transform\n",
    "\n",
    "    def __getitem__(self, idx):\n",
    "        image, label = self.dataset[idx]\n",
    "        return self.weak_transform(image), self.strong_transform(image), label\n",
    "\n",
    "    def __len__(self):\n",
    "        return len(self.dataset)\n",
    "\n",
    "augemented_train_dataset = DualTransformDataset(augemented_train_dataset, weak_transform, strong_transform)\n",
    "validation_dataset = [(validation_transform(image), label) for image, label in validation_dataset]\n",
    "\n",
    "train_loader = DataLoader(augemented_train_dataset, batch_size=32, shuffle=True)\n",
    "validation_loader = DataLoader(validation_dataset, batch_size=32, shuffle=False)"
   ]
  },
  {
   "cell_type": "code",
   "execution_count": 69,
   "id": "3e15f2a1",
   "metadata": {},
   "outputs": [],
   "source": [
    "random.seed(MANUAL_SEED)\n",
    "np.random.seed(MANUAL_SEED)\n",
    "torch.manual_seed(MANUAL_SEED)\n",
    "torch.cuda.manual_seed_all(MANUAL_SEED)\n",
    "\n",
    "torch.backends.cudnn.deterministic = True\n",
    "torch.backends.cudnn.benchmark = False"
   ]
  },
  {
   "cell_type": "code",
   "execution_count": 70,
   "id": "6a8760b3",
   "metadata": {},
   "outputs": [],
   "source": [
    "device = torch.device(\"cuda\" if torch.cuda.is_available() else \"cpu\")\n",
    "\n",
    "targets = [label for _, _, label in augemented_train_dataset]\n",
    "class_weights = compute_class_weight(\"balanced\", classes=np.unique(targets), y=targets)\n",
    "class_weights = torch.tensor(class_weights, dtype=torch.float).to(device)\n",
    "\n",
    "criterion = nn.CrossEntropyLoss(label_smoothing=0.1, weight=class_weights)"
   ]
  },
  {
   "cell_type": "code",
   "execution_count": 71,
   "id": "8ef9d83d",
   "metadata": {},
   "outputs": [],
   "source": [
    "student = timm.create_model(\"vit_base_patch16_224\", pretrained=True, num_classes=NUMBER_OF_CLASSES)\n",
    "teacher = copy.deepcopy(student)\n",
    "\n",
    "student = student.to(device)\n",
    "teacher = teacher.to(device)"
   ]
  },
  {
   "cell_type": "code",
   "execution_count": 72,
   "id": "0f440b1b",
   "metadata": {},
   "outputs": [],
   "source": [
    "def update_teacher(student, teacher, ema_decay=0.99):\n",
    "    for student_param, teacher_param in zip(student.parameters(), teacher.parameters()):\n",
    "        teacher_param.data = ema_decay*teacher_param.data + (1-ema_decay)*student_param.data"
   ]
  },
  {
   "cell_type": "code",
   "execution_count": 74,
   "id": "7150b08d",
   "metadata": {},
   "outputs": [
    {
     "name": "stderr",
     "output_type": "stream",
     "text": [
      "Epoch 1/30: 100%|██████████| 79/79 [17:40<00:00, 13.43s/it, accuracy=47, loss=1.44]  \n"
     ]
    },
    {
     "name": "stdout",
     "output_type": "stream",
     "text": [
      "Validation Loss: 0.8030 | Accuracy: 71.60% | F1 Score (macro): 0.6281\n",
      "💾 Saved new best model at Epoch 1\n"
     ]
    },
    {
     "name": "stderr",
     "output_type": "stream",
     "text": [
      "Epoch 2/30: 100%|██████████| 79/79 [18:56<00:00, 14.38s/it, accuracy=81.2, loss=0.93] \n"
     ]
    },
    {
     "name": "stdout",
     "output_type": "stream",
     "text": [
      "Validation Loss: 0.5994 | Accuracy: 89.94% | F1 Score (macro): 0.8818\n",
      "💾 Saved new best model at Epoch 2\n"
     ]
    },
    {
     "name": "stderr",
     "output_type": "stream",
     "text": [
      "Epoch 3/30: 100%|██████████| 79/79 [19:58<00:00, 15.17s/it, accuracy=89, loss=0.767]  \n"
     ]
    },
    {
     "name": "stdout",
     "output_type": "stream",
     "text": [
      "Validation Loss: 0.5489 | Accuracy: 89.94% | F1 Score (macro): 0.8820\n"
     ]
    },
    {
     "name": "stderr",
     "output_type": "stream",
     "text": [
      "Epoch 4/30: 100%|██████████| 79/79 [15:27<00:00, 11.73s/it, accuracy=90.8, loss=0.675]\n"
     ]
    },
    {
     "name": "stdout",
     "output_type": "stream",
     "text": [
      "Validation Loss: 0.5709 | Accuracy: 94.08% | F1 Score (macro): 0.9453\n",
      "💾 Saved new best model at Epoch 4\n"
     ]
    },
    {
     "name": "stderr",
     "output_type": "stream",
     "text": [
      "Epoch 5/30: 100%|██████████| 79/79 [16:01<00:00, 12.17s/it, accuracy=90.9, loss=0.672]\n"
     ]
    },
    {
     "name": "stdout",
     "output_type": "stream",
     "text": [
      "Validation Loss: 0.4178 | Accuracy: 94.67% | F1 Score (macro): 0.9445\n",
      "💾 Saved new best model at Epoch 5\n"
     ]
    },
    {
     "name": "stderr",
     "output_type": "stream",
     "text": [
      "Epoch 6/30: 100%|██████████| 79/79 [14:11<00:00, 10.77s/it, accuracy=92.6, loss=0.627]\n"
     ]
    },
    {
     "name": "stdout",
     "output_type": "stream",
     "text": [
      "Validation Loss: 0.4846 | Accuracy: 95.86% | F1 Score (macro): 0.9587\n",
      "💾 Saved new best model at Epoch 6\n"
     ]
    },
    {
     "name": "stderr",
     "output_type": "stream",
     "text": [
      "Epoch 7/30: 100%|██████████| 79/79 [14:13<00:00, 10.81s/it, accuracy=93.3, loss=0.623]\n"
     ]
    },
    {
     "name": "stdout",
     "output_type": "stream",
     "text": [
      "Validation Loss: 0.4156 | Accuracy: 91.72% | F1 Score (macro): 0.9108\n"
     ]
    },
    {
     "name": "stderr",
     "output_type": "stream",
     "text": [
      "Epoch 8/30: 100%|██████████| 79/79 [13:42<00:00, 10.42s/it, accuracy=94.4, loss=0.606]\n"
     ]
    },
    {
     "name": "stdout",
     "output_type": "stream",
     "text": [
      "Validation Loss: 0.3836 | Accuracy: 97.04% | F1 Score (macro): 0.9609\n",
      "💾 Saved new best model at Epoch 8\n"
     ]
    },
    {
     "name": "stderr",
     "output_type": "stream",
     "text": [
      "Epoch 9/30: 100%|██████████| 79/79 [14:31<00:00, 11.03s/it, accuracy=93.5, loss=0.639]\n"
     ]
    },
    {
     "name": "stdout",
     "output_type": "stream",
     "text": [
      "Validation Loss: 0.4939 | Accuracy: 95.86% | F1 Score (macro): 0.9506\n"
     ]
    },
    {
     "name": "stderr",
     "output_type": "stream",
     "text": [
      "Epoch 10/30: 100%|██████████| 79/79 [16:31<00:00, 12.56s/it, accuracy=94.8, loss=0.584]\n"
     ]
    },
    {
     "name": "stdout",
     "output_type": "stream",
     "text": [
      "Validation Loss: 0.3523 | Accuracy: 97.04% | F1 Score (macro): 0.9608\n"
     ]
    },
    {
     "name": "stderr",
     "output_type": "stream",
     "text": [
      "Epoch 11/30: 100%|██████████| 79/79 [16:42<00:00, 12.69s/it, accuracy=95.5, loss=0.573]\n"
     ]
    },
    {
     "name": "stdout",
     "output_type": "stream",
     "text": [
      "Validation Loss: 0.4376 | Accuracy: 97.63% | F1 Score (macro): 0.9781\n",
      "💾 Saved new best model at Epoch 11\n"
     ]
    },
    {
     "name": "stderr",
     "output_type": "stream",
     "text": [
      "Epoch 12/30: 100%|██████████| 79/79 [16:39<00:00, 12.65s/it, accuracy=95, loss=0.576]  \n"
     ]
    },
    {
     "name": "stdout",
     "output_type": "stream",
     "text": [
      "Validation Loss: 0.3580 | Accuracy: 97.63% | F1 Score (macro): 0.9704\n"
     ]
    },
    {
     "name": "stderr",
     "output_type": "stream",
     "text": [
      "Epoch 13/30: 100%|██████████| 79/79 [16:40<00:00, 12.67s/it, accuracy=96.1, loss=0.541]\n"
     ]
    },
    {
     "name": "stdout",
     "output_type": "stream",
     "text": [
      "Validation Loss: 0.3775 | Accuracy: 97.63% | F1 Score (macro): 0.9692\n"
     ]
    },
    {
     "name": "stderr",
     "output_type": "stream",
     "text": [
      "Epoch 14/30: 100%|██████████| 79/79 [4:11:00<00:00, 190.64s/it, accuracy=96.3, loss=0.543]    \n"
     ]
    },
    {
     "name": "stdout",
     "output_type": "stream",
     "text": [
      "Validation Loss: 0.3201 | Accuracy: 100.00% | F1 Score (macro): 1.0000\n",
      "💾 Saved new best model at Epoch 14\n"
     ]
    },
    {
     "name": "stderr",
     "output_type": "stream",
     "text": [
      "Epoch 15/30: 100%|██████████| 79/79 [14:14<00:00, 10.82s/it, accuracy=95.7, loss=0.56] \n"
     ]
    },
    {
     "name": "stdout",
     "output_type": "stream",
     "text": [
      "Validation Loss: 0.3374 | Accuracy: 98.22% | F1 Score (macro): 0.9798\n"
     ]
    },
    {
     "name": "stderr",
     "output_type": "stream",
     "text": [
      "Epoch 16/30: 100%|██████████| 79/79 [13:25<00:00, 10.20s/it, accuracy=96.8, loss=0.535]\n"
     ]
    },
    {
     "name": "stdout",
     "output_type": "stream",
     "text": [
      "Validation Loss: 0.3396 | Accuracy: 98.82% | F1 Score (macro): 0.9881\n"
     ]
    },
    {
     "name": "stderr",
     "output_type": "stream",
     "text": [
      "Epoch 17/30: 100%|██████████| 79/79 [13:52<00:00, 10.54s/it, accuracy=96.6, loss=0.532]\n"
     ]
    },
    {
     "name": "stdout",
     "output_type": "stream",
     "text": [
      "Validation Loss: 0.3529 | Accuracy: 99.41% | F1 Score (macro): 0.9943\n"
     ]
    },
    {
     "name": "stderr",
     "output_type": "stream",
     "text": [
      "Epoch 18/30: 100%|██████████| 79/79 [15:39<00:00, 11.89s/it, accuracy=95.4, loss=0.617]\n"
     ]
    },
    {
     "name": "stdout",
     "output_type": "stream",
     "text": [
      "Validation Loss: 0.3940 | Accuracy: 95.27% | F1 Score (macro): 0.9515\n"
     ]
    },
    {
     "name": "stderr",
     "output_type": "stream",
     "text": [
      "Epoch 19/30: 100%|██████████| 79/79 [14:45<00:00, 11.21s/it, accuracy=94.4, loss=0.609]\n"
     ]
    },
    {
     "name": "stdout",
     "output_type": "stream",
     "text": [
      "Validation Loss: 0.3328 | Accuracy: 100.00% | F1 Score (macro): 1.0000\n"
     ]
    },
    {
     "name": "stderr",
     "output_type": "stream",
     "text": [
      "Epoch 20/30: 100%|██████████| 79/79 [14:28<00:00, 11.00s/it, accuracy=96.9, loss=0.523]\n"
     ]
    },
    {
     "name": "stdout",
     "output_type": "stream",
     "text": [
      "Validation Loss: 0.3217 | Accuracy: 99.41% | F1 Score (macro): 0.9947\n"
     ]
    },
    {
     "name": "stderr",
     "output_type": "stream",
     "text": [
      "Epoch 21/30: 100%|██████████| 79/79 [14:22<00:00, 10.92s/it, accuracy=95.1, loss=0.604]\n"
     ]
    },
    {
     "name": "stdout",
     "output_type": "stream",
     "text": [
      "Validation Loss: 0.3216 | Accuracy: 99.41% | F1 Score (macro): 0.9947\n"
     ]
    },
    {
     "name": "stderr",
     "output_type": "stream",
     "text": [
      "Epoch 22/30: 100%|██████████| 79/79 [14:21<00:00, 10.91s/it, accuracy=96.7, loss=0.543]\n"
     ]
    },
    {
     "name": "stdout",
     "output_type": "stream",
     "text": [
      "Validation Loss: 0.3538 | Accuracy: 98.82% | F1 Score (macro): 0.9892\n"
     ]
    },
    {
     "name": "stderr",
     "output_type": "stream",
     "text": [
      "Epoch 23/30: 100%|██████████| 79/79 [16:13<00:00, 12.33s/it, accuracy=96.3, loss=0.546]\n"
     ]
    },
    {
     "name": "stdout",
     "output_type": "stream",
     "text": [
      "Validation Loss: 0.3428 | Accuracy: 98.22% | F1 Score (macro): 0.9840\n"
     ]
    },
    {
     "name": "stderr",
     "output_type": "stream",
     "text": [
      "Epoch 24/30: 100%|██████████| 79/79 [15:57<00:00, 12.12s/it, accuracy=97.1, loss=0.539]\n"
     ]
    },
    {
     "name": "stdout",
     "output_type": "stream",
     "text": [
      "Validation Loss: 0.3568 | Accuracy: 98.22% | F1 Score (macro): 0.9834\n"
     ]
    },
    {
     "name": "stderr",
     "output_type": "stream",
     "text": [
      "Epoch 25/30: 100%|██████████| 79/79 [13:55<00:00, 10.58s/it, accuracy=97.3, loss=0.501]\n"
     ]
    },
    {
     "name": "stdout",
     "output_type": "stream",
     "text": [
      "Validation Loss: 0.3296 | Accuracy: 99.41% | F1 Score (macro): 0.9947\n"
     ]
    },
    {
     "name": "stderr",
     "output_type": "stream",
     "text": [
      "Epoch 26/30: 100%|██████████| 79/79 [12:59<00:00,  9.87s/it, accuracy=97.1, loss=0.495]\n"
     ]
    },
    {
     "name": "stdout",
     "output_type": "stream",
     "text": [
      "Validation Loss: 0.3350 | Accuracy: 99.41% | F1 Score (macro): 0.9947\n"
     ]
    },
    {
     "name": "stderr",
     "output_type": "stream",
     "text": [
      "Epoch 27/30: 100%|██████████| 79/79 [12:59<00:00,  9.87s/it, accuracy=97.7, loss=0.486]\n"
     ]
    },
    {
     "name": "stdout",
     "output_type": "stream",
     "text": [
      "Validation Loss: 0.3261 | Accuracy: 99.41% | F1 Score (macro): 0.9947\n"
     ]
    },
    {
     "name": "stderr",
     "output_type": "stream",
     "text": [
      "Epoch 28/30: 100%|██████████| 79/79 [12:52<00:00,  9.78s/it, accuracy=97.3, loss=0.511]\n"
     ]
    },
    {
     "name": "stdout",
     "output_type": "stream",
     "text": [
      "Validation Loss: 0.3165 | Accuracy: 99.41% | F1 Score (macro): 0.9921\n"
     ]
    },
    {
     "name": "stderr",
     "output_type": "stream",
     "text": [
      "Epoch 29/30: 100%|██████████| 79/79 [13:07<00:00,  9.96s/it, accuracy=98.5, loss=0.452]\n"
     ]
    },
    {
     "name": "stdout",
     "output_type": "stream",
     "text": [
      "Validation Loss: 0.3349 | Accuracy: 98.82% | F1 Score (macro): 0.9891\n"
     ]
    },
    {
     "name": "stderr",
     "output_type": "stream",
     "text": [
      "Epoch 30/30: 100%|██████████| 79/79 [15:54<00:00, 12.08s/it, accuracy=98.3, loss=0.462]\n"
     ]
    },
    {
     "name": "stdout",
     "output_type": "stream",
     "text": [
      "Validation Loss: 0.3635 | Accuracy: 97.63% | F1 Score (macro): 0.9704\n"
     ]
    }
   ],
   "source": [
    "optimizer = torch.optim.Adam(student.parameters(), lr=3e-4, weight_decay=1e-4)\n",
    "lambda_weight = 0.5\n",
    "num_epochs = 30\n",
    "best_val_acc = 0.0\n",
    "\n",
    "for epoch in range(num_epochs):\n",
    "    student.train()\n",
    "    teacher.eval()\n",
    "    running_loss = 0.0\n",
    "    total, correct = 0, 0\n",
    "    loop = tqdm(train_loader, desc=f\"Epoch {epoch+1}/{num_epochs}\")\n",
    "\n",
    "    for weak_img, strong_img, labels in loop:\n",
    "        weak_img, strong_img, labels = weak_img.to(device), strong_img.to(device), labels.to(device)\n",
    "\n",
    "        with torch.no_grad():\n",
    "            teacher_output = teacher(weak_img)\n",
    "\n",
    "        student_output = student(strong_img)\n",
    "        loss_ce = criterion(student_output, labels)\n",
    "        loss_consistency = mse_loss(student_output, teacher_output.detach())\n",
    "        loss = loss_ce + lambda_weight * loss_consistency\n",
    "\n",
    "        optimizer.zero_grad()\n",
    "        loss.backward()\n",
    "        optimizer.step()\n",
    "        update_teacher(student, teacher)\n",
    "\n",
    "        running_loss += loss.item()\n",
    "        _, predicted = torch.max(student_output.data, 1)\n",
    "        total += labels.size(0)\n",
    "        correct += (predicted == labels).sum().item()\n",
    "        loop.set_postfix(loss=running_loss / (total // 32), accuracy=100. * correct / total)\n",
    "        \n",
    "    student.eval()\n",
    "    val_loss = 0.0\n",
    "    val_correct = 0\n",
    "    val_total = 0\n",
    "    true_labels = []\n",
    "    predicted_labels = []\n",
    "\n",
    "    with torch.no_grad():\n",
    "        for image, labels in validation_loader:\n",
    "            image, labels = image.to(device), labels.to(device)\n",
    "            outputs = student(image)\n",
    "            loss = criterion(outputs, labels)\n",
    "\n",
    "            val_loss += loss.item()\n",
    "            _, predicted = torch.max(outputs, 1)\n",
    "            val_total += labels.size(0)\n",
    "            val_correct += (predicted == labels).sum().item()\n",
    "\n",
    "            true_labels.extend(labels.cpu().numpy())\n",
    "            predicted_labels.extend(predicted.cpu().numpy())\n",
    "\n",
    "    avg_val_loss = val_loss / len(validation_loader)\n",
    "    val_accuracy = 100. * val_correct / val_total\n",
    "\n",
    "    f1 = f1_score(true_labels, predicted_labels, average='macro')\n",
    "\n",
    "    print(f\"Validation Loss: {avg_val_loss:.4f} | Accuracy: {val_accuracy:.2f}% | F1 Score (macro): {f1:.4f}\")\n",
    "    \n",
    "    log_path = Path(\"../models/model1\") / f\"version_{TRAIN_VERSION}\" / \"training_log.txt\"\n",
    "    log_path.parent.mkdir(parents=True, exist_ok=True)\n",
    "    with open(log_path, \"a\") as f:\n",
    "        f.write(f\"Epoch {epoch+1}: Val Loss = {avg_val_loss:.4f}, Accuracy = {val_accuracy:.2f}%, F1 = {f1:.4f}\\n\")\n",
    "\n",
    "    if val_accuracy > best_val_acc:\n",
    "        best_val_acc = val_accuracy\n",
    "\n",
    "        save_path = Path(\"../models/model1/\") / f\"version_{TRAIN_VERSION}\"\n",
    "        save_path.mkdir(parents=True, exist_ok=True)\n",
    "\n",
    "        torch.save(student.state_dict(), save_path / \"student.pth\")\n",
    "        torch.save(teacher.state_dict(), save_path / \"teacher.pth\")\n",
    "        print(f\"💾 Saved new best model at Epoch {epoch+1}\")"
   ]
  }
 ],
 "metadata": {
  "kernelspec": {
   "display_name": "venv",
   "language": "python",
   "name": "python3"
  },
  "language_info": {
   "codemirror_mode": {
    "name": "ipython",
    "version": 3
   },
   "file_extension": ".py",
   "mimetype": "text/x-python",
   "name": "python",
   "nbconvert_exporter": "python",
   "pygments_lexer": "ipython3",
   "version": "3.13.3"
  }
 },
 "nbformat": 4,
 "nbformat_minor": 5
}
